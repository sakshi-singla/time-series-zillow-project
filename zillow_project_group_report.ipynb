{
 "cells": [
  {
   "cell_type": "markdown",
   "metadata": {},
   "source": [
    "# [Zillow Data Set]\n",
    "#### - [Names]"
   ]
  },
  {
   "cell_type": "markdown",
   "metadata": {},
   "source": [
    "## Description of dataset:"
   ]
  },
  {
   "cell_type": "markdown",
   "metadata": {},
   "source": [
    "`Dimension:` We have data for 164 months. 5 variables(along with the response variable) are captured for each of the episodes.\n",
    "\n",
    "Below is the description for each of the variables\n",
    "\n",
    "\n",
    "> - Date - training set: Jan 2004 - Dec 2015, test set: Jan 2016 to Aug 2017\n",
    "> - MedianMortageRate: training set: Jan 2010 - Dec 2015, test set: Jan 2016 to Aug 2017\n",
    "> - UnemploymentRate: training set: Jan 2004 - Dec 2015, test set: Jan 2016 to - Aug 2017\n",
    "> - MedianRentalPrice: training set: Jan 2004 - Dec 2015, test set: Jan 2016 to - Aug 2017\n",
    "\n",
    "All the independent variables are being considered as continuous."
   ]
  },
  {
   "cell_type": "markdown",
   "metadata": {},
   "source": [
    "## Statement of the problem and a summary of methods:"
   ]
  },
  {
   "cell_type": "markdown",
   "metadata": {},
   "source": [
    "### Statement:"
   ]
  },
  {
   "cell_type": "markdown",
   "metadata": {},
   "source": [
    "*--- _`The problem statement` to forecast MedianSoldPrice for housing in California from January 2016 to August 2017 ---*\n",
    "\n",
    "*--- _`Questions we would like to explore` ---*\n",
    "> - What would be the best train test split?\n",
    "> - What are the the factors that affect median price of housing?\n",
    "> - \n",
    "> - \n",
    "> - "
   ]
  },
  {
   "cell_type": "markdown",
   "metadata": {},
   "source": [
    "### Summary of methods used:"
   ]
  },
  {
   "cell_type": "markdown",
   "metadata": {},
   "source": [
    "Following methods are used in the following analysis:\n",
    "> - exploratory data analysis\n",
    "> - train / test set split\n",
    "> - examine line plot, saw trend and seasonality, eyeballed m = [12]\n",
    "> - time differencing to elminate trend, choose d = []\n",
    "> - seasonal differencing to eliminate seasonality, choose D = []\n",
    "\n",
    "Fit, plot and find rmse for:\n",
    "> - auto ARIMA and selected [SARIMAX.....]\n",
    "> - SARIMAX with a combination of precdictor columns[]\n",
    "> - VAR with a combination of precdictor columns[]\n",
    "> - [maybe fit exponential]"
   ]
  },
  {
   "cell_type": "markdown",
   "metadata": {},
   "source": [
    "### Exploratory data analysis:"
   ]
  },
  {
   "cell_type": "markdown",
   "metadata": {},
   "source": [
    "> - MedianSoldPrice is positively correlated with MedianMortgageRate. the correlation coefficient is .78\n",
    "> - MedianSoldPrice is negatively correlated with UnemploymentRate. correlation coefficient is -0.65\n",
    "> - MedianSoldPrice and MedianRentalPrice are not significantly correlated, the correlation coefficient is 0.17\n",
    "> - We can expect MedianSoldPrice to predicted from MedianMortgageRate and UnemploymentRate."
   ]
  },
  {
   "cell_type": "markdown",
   "metadata": {},
   "source": [
    "## Textual and/or visual report on findings:"
   ]
  },
  {
   "cell_type": "markdown",
   "metadata": {},
   "source": [
    "### SARIMAX"
   ]
  },
  {
   "cell_type": "markdown",
   "metadata": {},
   "source": [
    "We have studied the relation between different variables. Following are few findings at this point"
   ]
  },
  {
   "cell_type": "markdown",
   "metadata": {},
   "source": [
    "`i. Forecast:` []\n",
    "\n",
    "Below are the plots."
   ]
  },
  {
   "cell_type": "code",
   "execution_count": 2,
   "metadata": {},
   "outputs": [],
   "source": [
    "##[]"
   ]
  },
  {
   "cell_type": "code",
   "execution_count": 4,
   "metadata": {},
   "outputs": [],
   "source": [
    "##[]"
   ]
  },
  {
   "cell_type": "markdown",
   "metadata": {},
   "source": [
    "[decribe the forecast]"
   ]
  },
  {
   "cell_type": "markdown",
   "metadata": {},
   "source": [
    "`ii. rmse:`\n",
    "[]"
   ]
  },
  {
   "cell_type": "code",
   "execution_count": 5,
   "metadata": {},
   "outputs": [],
   "source": [
    "##[]"
   ]
  },
  {
   "cell_type": "markdown",
   "metadata": {},
   "source": [
    "### VAR"
   ]
  },
  {
   "cell_type": "markdown",
   "metadata": {},
   "source": [
    "We have studied the relation between different variables. Following are few findings at this point"
   ]
  },
  {
   "cell_type": "markdown",
   "metadata": {},
   "source": [
    "`i. Forecast:` []\n",
    "\n",
    "Below are the plots."
   ]
  },
  {
   "cell_type": "code",
   "execution_count": 2,
   "metadata": {},
   "outputs": [],
   "source": [
    "##[]"
   ]
  },
  {
   "cell_type": "code",
   "execution_count": 4,
   "metadata": {},
   "outputs": [],
   "source": [
    "##[]"
   ]
  },
  {
   "cell_type": "markdown",
   "metadata": {},
   "source": [
    "[]"
   ]
  },
  {
   "cell_type": "markdown",
   "metadata": {},
   "source": [
    "`ii. rmse:`\n",
    "[]"
   ]
  },
  {
   "cell_type": "code",
   "execution_count": 5,
   "metadata": {},
   "outputs": [],
   "source": [
    "##[]"
   ]
  },
  {
   "cell_type": "markdown",
   "metadata": {},
   "source": [
    "## Final model selection"
   ]
  },
  {
   "cell_type": "markdown",
   "metadata": {},
   "source": [
    "> - Explored log transform on target variable, MedianSoldPrice"
   ]
  },
  {
   "cell_type": "markdown",
   "metadata": {},
   "source": [
    "## Table indicating amount of work:"
   ]
  },
  {
   "cell_type": "code",
   "execution_count": 7,
   "metadata": {},
   "outputs": [],
   "source": [
    "# insert table from numbers."
   ]
  },
  {
   "cell_type": "markdown",
   "metadata": {},
   "source": [
    "# SUMMARY:"
   ]
  },
  {
   "cell_type": "markdown",
   "metadata": {},
   "source": [
    "To summarize:\n",
    "\n",
    "_`The problem statement` here is to understand the behaviour of the rating for an episode based on its other paramters like views, voters, seasons and episodes and figure out what factor increase or decrease the overall rating_\n",
    "\n",
    "`Our Suggestion:`\n",
    "_The rating for an episode is mostly driven by parameters like seasons, number of unique viewers and total views  from the dataset we have. It seems to have been decreasing over the period of time i.e with more seasons coming, shares a positive relation with total number of views and negative relation with number of unique viewers._\n",
    "\n",
    "_But given few constraints in the model designed, we would suggest to get more data  in terms of investigating further and adding more parameters to the data to get rid of the constraints_\n",
    "\n",
    "`About the model:`\n",
    "\n",
    "> - We chose the best model using best subset model selection method as we could afford it for the dataset\n",
    "> - The model chosen from the best subset method is analyzed for any structural problems or violation of modelling assumptions\n",
    "> - All the other problems like influential points and multi-collinearity problems have been identified\n",
    "\n",
    "A `new model` has been setup by fixing all the problems that are identified in the earlier model. Following are few observations.\n",
    "> - The new model holds the model assumptions like normality and linearity\n",
    "> - Doesn't have any structural or multi-collineairty problems\n",
    "\n",
    "`Major persisiting issues:` \n",
    "> - It is an underspecified model based on Cp value which means that there are some important predictors missing in our dataset.\n",
    "> - The problem of 'Heteroscedasticy' still exists in the model even after removing influential points and box-cox tranformation on the response variable. \n",
    ">> - We can further pursue this problem by considering the weighted OLS method to estimate the parameters\n",
    ">> - This could also be happening because the model is underspecified. Maybe adding missing important parameters might fix the problem of unequal variance in the error terms\n",
    "\n",
    "\n",
    "`Other Points to note:`\n",
    "> - Although 4 variables have been chosen from the best subset method, one of the variables has to be dropped due to multi-collinearity problem\n",
    "> - 48 observations are deleted which turned out to be influential points\n",
    "> - Boxcox tranformation has been performed on the response variable to handle the non-normality issue\n",
    "> -  7 observations are deleted at the start of the analysis as they have missing values including response variable\n"
   ]
  }
 ],
 "metadata": {
  "kernelspec": {
   "display_name": "Python 3",
   "language": "python",
   "name": "python3"
  },
  "language_info": {
   "codemirror_mode": {
    "name": "ipython",
    "version": 3
   },
   "file_extension": ".py",
   "mimetype": "text/x-python",
   "name": "python",
   "nbconvert_exporter": "python",
   "pygments_lexer": "ipython3",
   "version": "3.7.4"
  }
 },
 "nbformat": 4,
 "nbformat_minor": 2
}
